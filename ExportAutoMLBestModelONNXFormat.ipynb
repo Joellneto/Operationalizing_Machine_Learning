{
 "cells": [
  {
   "cell_type": "markdown",
   "id": "4592a00d-598b-4e5e-90ce-c89f9af36447",
   "metadata": {},
   "source": [
    "### Export AutoML best model in ONNX format"
   ]
  },
  {
   "cell_type": "code",
   "execution_count": 6,
   "id": "27cdaecb-976b-4244-90b4-7edd232fdf50",
   "metadata": {},
   "outputs": [
    {
     "data": {
      "text/html": [
       "<table style=\"width:100%\"><tr><th>Experiment</th><th>Id</th><th>Type</th><th>Status</th><th>Details Page</th><th>Docs Page</th></tr><tr><td>Bankmarketing-experiment</td><td>05053a73-2bfe-4545-b1a0-364364665d9d</td><td>azureml.StepRun</td><td>Completed</td><td><a href=\"https://ml.azure.com/runs/05053a73-2bfe-4545-b1a0-364364665d9d?wsid=/subscriptions/3e42d11f-d64d-4173-af9b-12ecaa1030b3/resourcegroups/aml-quickstarts-258952/workspaces/quick-starts-ws-258952&amp;tid=660b3398-b80e-49d2-bc5b-ac1dc93b5254\" target=\"_blank\" rel=\"noopener\">Link to Azure Machine Learning studio</a></td><td><a href=\"https://docs.microsoft.com/en-us/python/api/overview/azure/ml/intro?view=azure-ml-py\" target=\"_blank\" rel=\"noopener\">Link to Documentation</a></td></tr></table>"
      ],
      "text/plain": [
       "Run(Experiment: Bankmarketing-experiment,\n",
       "Id: 05053a73-2bfe-4545-b1a0-364364665d9d,\n",
       "Type: azureml.StepRun,\n",
       "Status: Completed)"
      ]
     },
     "execution_count": 6,
     "metadata": {},
     "output_type": "execute_result"
    }
   ],
   "source": [
    "# replace with the experiment and run_id of the AutoML job\n",
    "\n",
    "from azureml.core.workspace import Workspace\n",
    "\n",
    "ws = Workspace.from_config()\n",
    "\n",
    "from azureml.core.experiment import Experiment\n",
    "experiment=Experiment(ws,\"Bankmarketing-experiment\")\n",
    "\n",
    "from azureml.train.automl.run import AutoMLRun\n",
    "remote_run = AutoMLRun(experiment=experiment, run_id='05053a73-2bfe-4545-b1a0-364364665d9d')\n",
    "remote_run"
   ]
  },
  {
   "cell_type": "code",
   "execution_count": 7,
   "id": "69c7f0ab-0d45-42d3-aaf6-c94ef9a9982c",
   "metadata": {},
   "outputs": [],
   "source": [
    "# get the best model in ONNX format and save the file locally\n",
    "\n",
    "best_run, onnx_mdl = remote_run.get_output(return_onnx_model=True)\n",
    "\n",
    "from azureml.automl.runtime.onnx_convert import OnnxConverter\n",
    "\n",
    "onnx_fl_path = \"./best_model.onnx\"\n",
    "OnnxConverter.save_onnx_model(onnx_mdl, onnx_fl_path)"
   ]
  },
  {
   "cell_type": "code",
   "execution_count": null,
   "id": "e005de59",
   "metadata": {},
   "outputs": [],
   "source": []
  }
 ],
 "metadata": {
  "kernelspec": {
   "display_name": "Python 3.8 - AzureML",
   "language": "python",
   "name": "python38-azureml"
  },
  "language_info": {
   "codemirror_mode": {
    "name": "ipython",
    "version": 3
   },
   "file_extension": ".py",
   "mimetype": "text/x-python",
   "name": "python",
   "nbconvert_exporter": "python",
   "pygments_lexer": "ipython3",
   "version": "3.8.5"
  }
 },
 "nbformat": 4,
 "nbformat_minor": 5
}
